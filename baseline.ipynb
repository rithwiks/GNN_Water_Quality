{
 "cells": [
  {
   "cell_type": "code",
   "execution_count": 7,
   "metadata": {},
   "outputs": [],
   "source": [
    "import pandas as pd\n",
    "import torch\n",
    "import numpy as np\n",
    "import pickle as pkl"
   ]
  },
  {
   "cell_type": "code",
   "execution_count": 55,
   "metadata": {},
   "outputs": [
    {
     "data": {
      "text/html": [
       "<div>\n",
       "<style scoped>\n",
       "    .dataframe tbody tr th:only-of-type {\n",
       "        vertical-align: middle;\n",
       "    }\n",
       "\n",
       "    .dataframe tbody tr th {\n",
       "        vertical-align: top;\n",
       "    }\n",
       "\n",
       "    .dataframe thead th {\n",
       "        text-align: right;\n",
       "    }\n",
       "</style>\n",
       "<table border=\"1\" class=\"dataframe\">\n",
       "  <thead>\n",
       "    <tr style=\"text-align: right;\">\n",
       "      <th></th>\n",
       "      <th>SamplingOperations_code</th>\n",
       "      <th>CodeSite_SamplingOperations</th>\n",
       "      <th>Date_SamplingOperation</th>\n",
       "      <th>Nitrogencompounds_Status1Y</th>\n",
       "      <th>Nitrogencompounds_Status180D</th>\n",
       "      <th>Nitrogencompounds_Status90D</th>\n",
       "      <th>Nitrates_Status1Y</th>\n",
       "      <th>Nitrates_Status180D</th>\n",
       "      <th>Nitrates_Status90D</th>\n",
       "      <th>Phosphorouscompounds_Status1Y</th>\n",
       "      <th>...</th>\n",
       "      <th>OrganicMatter_Status90D</th>\n",
       "      <th>SuspendedMatter_Status1Y</th>\n",
       "      <th>SuspendedMatter_Status180D</th>\n",
       "      <th>SuspendedMatter_Status90D</th>\n",
       "      <th>OrganicMicropollutants_Status1Y</th>\n",
       "      <th>OrganicMicropollutants_Status180D</th>\n",
       "      <th>OrganicMicropollutants_Status90D</th>\n",
       "      <th>MineralMicropollutants_Status1Y</th>\n",
       "      <th>MineralMicropollutants_Status180D</th>\n",
       "      <th>MineralMicropollutants_Status90D</th>\n",
       "    </tr>\n",
       "  </thead>\n",
       "  <tbody>\n",
       "    <tr>\n",
       "      <th>0</th>\n",
       "      <td>S02000008_20170703</td>\n",
       "      <td>S02000008</td>\n",
       "      <td>2017-07-03</td>\n",
       "      <td>Good</td>\n",
       "      <td>Good</td>\n",
       "      <td>Good</td>\n",
       "      <td>Moderate</td>\n",
       "      <td>Moderate</td>\n",
       "      <td>Moderate</td>\n",
       "      <td>Good</td>\n",
       "      <td>...</td>\n",
       "      <td>Bad</td>\n",
       "      <td>High</td>\n",
       "      <td>High</td>\n",
       "      <td>High</td>\n",
       "      <td>Good</td>\n",
       "      <td>Good</td>\n",
       "      <td>Good</td>\n",
       "      <td>Good</td>\n",
       "      <td>Good</td>\n",
       "      <td>Good</td>\n",
       "    </tr>\n",
       "    <tr>\n",
       "      <th>1</th>\n",
       "      <td>S02000008_20200708</td>\n",
       "      <td>S02000008</td>\n",
       "      <td>2020-07-08</td>\n",
       "      <td>Good</td>\n",
       "      <td>Good</td>\n",
       "      <td>Good</td>\n",
       "      <td>Moderate</td>\n",
       "      <td>Moderate</td>\n",
       "      <td>Moderate</td>\n",
       "      <td>Moderate</td>\n",
       "      <td>...</td>\n",
       "      <td>Bad</td>\n",
       "      <td>High</td>\n",
       "      <td>High</td>\n",
       "      <td>High</td>\n",
       "      <td>Good</td>\n",
       "      <td>Good</td>\n",
       "      <td>Good</td>\n",
       "      <td>Good</td>\n",
       "      <td>Good</td>\n",
       "      <td>Good</td>\n",
       "    </tr>\n",
       "    <tr>\n",
       "      <th>2</th>\n",
       "      <td>S02000010_20070906</td>\n",
       "      <td>S02000010</td>\n",
       "      <td>2007-09-06</td>\n",
       "      <td>Good</td>\n",
       "      <td>Good</td>\n",
       "      <td>Good</td>\n",
       "      <td>Good</td>\n",
       "      <td>Good</td>\n",
       "      <td>Good</td>\n",
       "      <td>High</td>\n",
       "      <td>...</td>\n",
       "      <td>Bad</td>\n",
       "      <td>High</td>\n",
       "      <td>High</td>\n",
       "      <td>High</td>\n",
       "      <td>Moderate</td>\n",
       "      <td>Moderate</td>\n",
       "      <td>Moderate</td>\n",
       "      <td>Good</td>\n",
       "      <td>Good</td>\n",
       "      <td>Good</td>\n",
       "    </tr>\n",
       "    <tr>\n",
       "      <th>3</th>\n",
       "      <td>S02000010_20080811</td>\n",
       "      <td>S02000010</td>\n",
       "      <td>2008-08-11</td>\n",
       "      <td>Good</td>\n",
       "      <td>Good</td>\n",
       "      <td>Good</td>\n",
       "      <td>Good</td>\n",
       "      <td>Good</td>\n",
       "      <td>Good</td>\n",
       "      <td>High</td>\n",
       "      <td>...</td>\n",
       "      <td>Bad</td>\n",
       "      <td>High</td>\n",
       "      <td>High</td>\n",
       "      <td>High</td>\n",
       "      <td>Moderate</td>\n",
       "      <td>Moderate</td>\n",
       "      <td>Moderate</td>\n",
       "      <td>Moderate</td>\n",
       "      <td>Moderate</td>\n",
       "      <td>Moderate</td>\n",
       "    </tr>\n",
       "    <tr>\n",
       "      <th>4</th>\n",
       "      <td>S02000010_20090721</td>\n",
       "      <td>S02000010</td>\n",
       "      <td>2009-07-21</td>\n",
       "      <td>Good</td>\n",
       "      <td>Good</td>\n",
       "      <td>Good</td>\n",
       "      <td>Good</td>\n",
       "      <td>Good</td>\n",
       "      <td>Good</td>\n",
       "      <td>Good</td>\n",
       "      <td>...</td>\n",
       "      <td>Bad</td>\n",
       "      <td>High</td>\n",
       "      <td>High</td>\n",
       "      <td>High</td>\n",
       "      <td>Moderate</td>\n",
       "      <td>Moderate</td>\n",
       "      <td>Moderate</td>\n",
       "      <td>Moderate</td>\n",
       "      <td>Moderate</td>\n",
       "      <td>Moderate</td>\n",
       "    </tr>\n",
       "  </tbody>\n",
       "</table>\n",
       "<p>5 rows × 30 columns</p>\n",
       "</div>"
      ],
      "text/plain": [
       "  SamplingOperations_code CodeSite_SamplingOperations Date_SamplingOperation  \\\n",
       "0      S02000008_20170703                   S02000008             2017-07-03   \n",
       "1      S02000008_20200708                   S02000008             2020-07-08   \n",
       "2      S02000010_20070906                   S02000010             2007-09-06   \n",
       "3      S02000010_20080811                   S02000010             2008-08-11   \n",
       "4      S02000010_20090721                   S02000010             2009-07-21   \n",
       "\n",
       "  Nitrogencompounds_Status1Y Nitrogencompounds_Status180D  \\\n",
       "0                       Good                         Good   \n",
       "1                       Good                         Good   \n",
       "2                       Good                         Good   \n",
       "3                       Good                         Good   \n",
       "4                       Good                         Good   \n",
       "\n",
       "  Nitrogencompounds_Status90D Nitrates_Status1Y Nitrates_Status180D  \\\n",
       "0                        Good          Moderate            Moderate   \n",
       "1                        Good          Moderate            Moderate   \n",
       "2                        Good              Good                Good   \n",
       "3                        Good              Good                Good   \n",
       "4                        Good              Good                Good   \n",
       "\n",
       "  Nitrates_Status90D Phosphorouscompounds_Status1Y  ...  \\\n",
       "0           Moderate                          Good  ...   \n",
       "1           Moderate                      Moderate  ...   \n",
       "2               Good                          High  ...   \n",
       "3               Good                          High  ...   \n",
       "4               Good                          Good  ...   \n",
       "\n",
       "  OrganicMatter_Status90D SuspendedMatter_Status1Y SuspendedMatter_Status180D  \\\n",
       "0                     Bad                     High                       High   \n",
       "1                     Bad                     High                       High   \n",
       "2                     Bad                     High                       High   \n",
       "3                     Bad                     High                       High   \n",
       "4                     Bad                     High                       High   \n",
       "\n",
       "  SuspendedMatter_Status90D OrganicMicropollutants_Status1Y  \\\n",
       "0                      High                            Good   \n",
       "1                      High                            Good   \n",
       "2                      High                        Moderate   \n",
       "3                      High                        Moderate   \n",
       "4                      High                        Moderate   \n",
       "\n",
       "  OrganicMicropollutants_Status180D OrganicMicropollutants_Status90D  \\\n",
       "0                              Good                             Good   \n",
       "1                              Good                             Good   \n",
       "2                          Moderate                         Moderate   \n",
       "3                          Moderate                         Moderate   \n",
       "4                          Moderate                         Moderate   \n",
       "\n",
       "  MineralMicropollutants_Status1Y MineralMicropollutants_Status180D  \\\n",
       "0                            Good                              Good   \n",
       "1                            Good                              Good   \n",
       "2                            Good                              Good   \n",
       "3                        Moderate                          Moderate   \n",
       "4                        Moderate                          Moderate   \n",
       "\n",
       "  MineralMicropollutants_Status90D  \n",
       "0                             Good  \n",
       "1                             Good  \n",
       "2                             Good  \n",
       "3                         Moderate  \n",
       "4                         Moderate  \n",
       "\n",
       "[5 rows x 30 columns]"
      ]
     },
     "execution_count": 55,
     "metadata": {},
     "output_type": "execute_result"
    }
   ],
   "source": [
    "diatoms = pd.read_csv('DataDiatomGNN_GTstudentprojectGT/DiatomInventories_GTstudentproject.csv', sep=';')\n",
    "info = pd.read_csv('DataDiatomGNN_GTstudentprojectGT/PressureStatus_GTstudentproject.csv', sep=';')\n",
    "info.head()"
   ]
  },
  {
   "cell_type": "code",
   "execution_count": 57,
   "metadata": {},
   "outputs": [],
   "source": [
    "with open('taxon_to_onehot.txt', 'rb') as f:\n",
    "    taxons = f.readlines()\n",
    "    taxons = [x.decode('utf-8').strip() for x in taxons]\n",
    "diatoms['onehot'] = diatoms['TaxonCode'].apply(lambda x: taxons.index(x))"
   ]
  },
  {
   "cell_type": "code",
   "execution_count": 11,
   "metadata": {},
   "outputs": [],
   "source": [
    "diatoms_per_sampling_operation = pkl.load(open('diatoms_per_sampling_operation.pkl', 'rb'))"
   ]
  },
  {
   "cell_type": "code",
   "execution_count": 12,
   "metadata": {},
   "outputs": [
    {
     "name": "stdout",
     "output_type": "stream",
     "text": [
      "         onehot  Abundance_pm\n",
      "32318        69      7.407407\n",
      "68603        85     88.888889\n",
      "129441      124      2.469136\n",
      "194448      176      4.938272\n",
      "222251      191    187.654321\n",
      "274455      248      2.469136\n",
      "292708      294     44.444444\n",
      "646505      919      4.938272\n",
      "770249     1137      2.469136\n",
      "792780     1149      2.469136\n",
      "837637     1202     32.098765\n",
      "875360     1203      4.938272\n",
      "973744     1384    261.728395\n",
      "1032167    1432    283.950617\n",
      "1079745    1477     19.753086\n",
      "1306969    1720      2.469136\n",
      "1364330    1934      7.407407\n",
      "1449906    2033      7.407407\n",
      "1488642    2065     14.814815\n",
      "1612890    2285     17.283951\n"
     ]
    }
   ],
   "source": [
    "print(diatoms_per_sampling_operation['S02000008_20170703'])"
   ]
  },
  {
   "cell_type": "code",
   "execution_count": 13,
   "metadata": {},
   "outputs": [],
   "source": [
    "pressures_per_sampling_operation = pd.read_csv('DataDiatomGNN_GTstudentprojectGT/PressureStatus_GTstudentproject.csv', sep=';')\n",
    "pressures_per_sampling_operation = pressures_per_sampling_operation.drop_duplicates(subset=['SamplingOperations_code'])\n",
    "# make pressuers_per_sampling_operation a dictionary with sampling operation as key\n",
    "pressures_per_sampling_operation = pressures_per_sampling_operation.set_index('SamplingOperations_code').to_dict(orient='index')"
   ]
  },
  {
   "cell_type": "code",
   "execution_count": 14,
   "metadata": {},
   "outputs": [
    {
     "name": "stdout",
     "output_type": "stream",
     "text": [
      "{'CodeSite_SamplingOperations': 'S02000008', 'Date_SamplingOperation': '2017-07-03', 'Nitrogencompounds_Status1Y': 'Good', 'Nitrogencompounds_Status180D': 'Good', 'Nitrogencompounds_Status90D': 'Good', 'Nitrates_Status1Y': 'Moderate', 'Nitrates_Status180D': 'Moderate', 'Nitrates_Status90D': 'Moderate', 'Phosphorouscompounds_Status1Y': 'Good', 'Phosphorouscompounds_Status180D': 'Good', 'Phosphorouscompounds_Status90D': 'Moderate', 'Acidification_Status1Y': 'High', 'Acidification_Status180D': 'High', 'Acidification_Status90D': 'High', 'PAH_Status1Y': 'Unassessed', 'PAH_Status180D': 'Unassessed', 'PAH_Status90D': 'Unassessed', 'OrganicMatter_Status1Y': 'Bad', 'OrganicMatter_Status180D': 'Bad', 'OrganicMatter_Status90D': 'Bad', 'SuspendedMatter_Status1Y': 'High', 'SuspendedMatter_Status180D': 'High', 'SuspendedMatter_Status90D': 'High', 'OrganicMicropollutants_Status1Y': 'Good', 'OrganicMicropollutants_Status180D': 'Good', 'OrganicMicropollutants_Status90D': 'Good', 'MineralMicropollutants_Status1Y': 'Good', 'MineralMicropollutants_Status180D': 'Good', 'MineralMicropollutants_Status90D': 'Good'}\n"
     ]
    }
   ],
   "source": [
    "print(pressures_per_sampling_operation['S02000008_20170703'])"
   ]
  },
  {
   "cell_type": "code",
   "execution_count": 15,
   "metadata": {},
   "outputs": [],
   "source": [
    "sampling_op_to_tensor = {}\n",
    "valid_ys = [\"Nitrogencompounds_Status1Y\",\"Nitrogencompounds_Status180D\",\"Nitrogencompounds_Status90D\",\"Nitrates_Status1Y\",\"Nitrates_Status180D\",\"Nitrates_Status90D\",\"Phosphorouscompounds_Status1Y\",\"Phosphorouscompounds_Status180D\",\"Phosphorouscompounds_Status90D\",\"Acidification_Status1Y\",\"Acidification_Status180D\",\"Acidification_Status90D\",\"PAH_Status1Y\",\"PAH_Status180D\",\"PAH_Status90D\",\"OrganicMatter_Status1Y\",\"OrganicMatter_Status180D\",\"OrganicMatter_Status90D\",\"SuspendedMatter_Status1Y\",\"SuspendedMatter_Status180D\",\"SuspendedMatter_Status90D\",\"OrganicMicropollutants_Status1Y\",\"OrganicMicropollutants_Status180D\",\"OrganicMicropollutants_Status90D\",\"MineralMicropollutants_Status1Y\",\"MineralMicropollutants_Status180D\",\"MineralMicropollutants_Status90D\"]\n",
    "y_map = {\"High\": 0, \"Good\": 1, \"Moderate\": 2, \"Poor\": 3, \"Bad\": 4, \"Unassessed\": -1}\n",
    "for key in diatoms_per_sampling_operation:\n",
    "    scaled_onehot = torch.zeros((diatoms['onehot'].max()+1))\n",
    "    one_hot = torch.zeros((diatoms['onehot'].max()+1))\n",
    "    scaled_onehot[diatoms_per_sampling_operation[key]['onehot'].to_list()] = torch.tensor(diatoms_per_sampling_operation[key]['Abundance_pm'].to_list())\n",
    "    one_hot[diatoms_per_sampling_operation[key]['onehot'].to_list()] = 1\n",
    "    ys_list = []\n",
    "    skip = False\n",
    "    for y in valid_ys:\n",
    "        ys_list.append(y_map[pressures_per_sampling_operation[key][y]])\n",
    "    sampling_op_to_tensor[key] = (scaled_onehot, one_hot, torch.tensor(ys_list))\n",
    "with open('sampling_op_to_tensor.pkl', 'wb') as f:\n",
    "    pkl.dump(sampling_op_to_tensor, f)"
   ]
  },
  {
   "cell_type": "code",
   "execution_count": 113,
   "metadata": {},
   "outputs": [
    {
     "name": "stdout",
     "output_type": "stream",
     "text": [
      "Skipped 593 samples\n",
      "Y distribution (0 is High, 4 is Bad): {0: 4615, 1: 19291, 2: 16742, 3: 7412, 4: 578}\n"
     ]
    }
   ],
   "source": [
    "sampling_op_to_tensor = pkl.load(open('sampling_op_to_tensor.pkl', 'rb'))\n",
    "from torch.utils.data import Dataset, DataLoader\n",
    "\n",
    "class DiatomDataset(Dataset):\n",
    "    def __init__(self, sampling_op_to_tensor, x='scaled_onehot', y='Nitrogencompounds_Status1Y'):\n",
    "        self.sampling_op_to_tensor = sampling_op_to_tensor.copy()\n",
    "        self.keys = list(self.sampling_op_to_tensor.keys())\n",
    "        self.x = 0 if x == 'scaled_onehot' else 1\n",
    "        self.y = [valid_ys.index(y)]\n",
    "        temp = []\n",
    "        for key in self.keys:\n",
    "            if self.sampling_op_to_tensor[key][2][self.y].item() == -1:\n",
    "                continue\n",
    "            else:\n",
    "                temp.append(key)\n",
    "        print('Skipped', len(self.keys) - len(temp), 'samples')\n",
    "        self.keys = temp\n",
    "\n",
    "        \n",
    "    def __len__(self):\n",
    "        return len(self.keys)\n",
    "    \n",
    "    def __getitem__(self, idx):\n",
    "        key = self.keys[idx]\n",
    "        return self.sampling_op_to_tensor[key][self.x], self.sampling_op_to_tensor[key][2][self.y].item()\n",
    "\n",
    "dataset = DiatomDataset(sampling_op_to_tensor, x='scaled_onehot', y='Nitrates_Status1Y')\n",
    "y_dist = {0: 0, 1: 0, 2: 0, 3: 0, 4: 0}\n",
    "for i in range(len(dataset)):\n",
    "    y_dist[dataset[i][1]] += 1\n",
    "print('Y distribution (0 is High, 4 is Bad):', y_dist)"
   ]
  },
  {
   "cell_type": "code",
   "execution_count": 114,
   "metadata": {},
   "outputs": [
    {
     "name": "stdout",
     "output_type": "stream",
     "text": [
      "Skipped 593 samples\n",
      "Y distribution (0 is Good, 1 is Mediocre/Bad): {0: 23906, 1: 24732}\n"
     ]
    }
   ],
   "source": [
    "class DiatomDatasetBinary(Dataset):\n",
    "    def __init__(self, sampling_op_to_tensor, x='scaled_onehot', y='Nitrogencompounds_Status1Y'):\n",
    "        self.sampling_op_to_tensor = sampling_op_to_tensor.copy()\n",
    "        self.keys = list(self.sampling_op_to_tensor.keys())\n",
    "        self.x = 0 if x == 'scaled_onehot' else 1\n",
    "        self.y = [valid_ys.index(y)]\n",
    "        temp = []\n",
    "        for key in self.keys:\n",
    "            if self.sampling_op_to_tensor[key][2][self.y].item() == -1:\n",
    "                continue\n",
    "            else:\n",
    "                temp.append(key)\n",
    "                self.sampling_op_to_tensor[key][2][self.y] = 1 if self.sampling_op_to_tensor[key][2][self.y].item() >= 2 else 0\n",
    "        print('Skipped', len(self.keys) - len(temp), 'samples')\n",
    "        self.keys = temp\n",
    "\n",
    "        \n",
    "    def __len__(self):\n",
    "        return len(self.keys)\n",
    "    \n",
    "    def __getitem__(self, idx):\n",
    "        key = self.keys[idx]\n",
    "        return self.sampling_op_to_tensor[key][self.x], self.sampling_op_to_tensor[key][2][self.y].item(), key\n",
    "dataset_bin = DiatomDatasetBinary(sampling_op_to_tensor, x='scaled_onehot', y='Nitrates_Status1Y')\n",
    "y_dist_bin = {0: 0, 1: 0}\n",
    "for i in range(len(dataset_bin)):\n",
    "    y_dist_bin[dataset_bin[i][1]] += 1\n",
    "print('Y distribution (0 is Good, 1 is Mediocre/Bad):', y_dist_bin)"
   ]
  },
  {
   "cell_type": "code",
   "execution_count": 101,
   "metadata": {},
   "outputs": [
    {
     "name": "stderr",
     "output_type": "stream",
     "text": [
      "100%|██████████| 1216/1216 [00:28<00:00, 42.13it/s]\n"
     ]
    },
    {
     "name": "stdout",
     "output_type": "stream",
     "text": [
      "Epoch 0, Loss 0.4097661077976227, Accuracy 77.6869699306091, 1215/1216\n"
     ]
    },
    {
     "name": "stderr",
     "output_type": "stream",
     "text": [
      "100%|██████████| 1216/1216 [00:28<00:00, 41.94it/s]\n"
     ]
    },
    {
     "name": "stdout",
     "output_type": "stream",
     "text": [
      "Epoch 1, Loss 0.5301875472068787, Accuracy 80.78900025700334, 1215/1216\n"
     ]
    },
    {
     "name": "stderr",
     "output_type": "stream",
     "text": [
      "100%|██████████| 1216/1216 [00:29<00:00, 41.72it/s]\n"
     ]
    },
    {
     "name": "stdout",
     "output_type": "stream",
     "text": [
      "Epoch 2, Loss 0.27238860726356506, Accuracy 83.03006939090209, 1215/1216\n"
     ]
    },
    {
     "name": "stderr",
     "output_type": "stream",
     "text": [
      "100%|██████████| 1216/1216 [00:30<00:00, 40.40it/s]\n"
     ]
    },
    {
     "name": "stdout",
     "output_type": "stream",
     "text": [
      "Epoch 3, Loss 0.24516384303569794, Accuracy 84.80853251092265, 1215/1216\n"
     ]
    },
    {
     "name": "stderr",
     "output_type": "stream",
     "text": [
      "100%|██████████| 1216/1216 [00:28<00:00, 42.05it/s]\n"
     ]
    },
    {
     "name": "stdout",
     "output_type": "stream",
     "text": [
      "Epoch 4, Loss 0.3193577527999878, Accuracy 86.49190439475713, 1215/1216\n"
     ]
    },
    {
     "name": "stderr",
     "output_type": "stream",
     "text": [
      "100%|██████████| 1216/1216 [00:28<00:00, 41.95it/s]\n"
     ]
    },
    {
     "name": "stdout",
     "output_type": "stream",
     "text": [
      "Epoch 5, Loss 0.15827298164367676, Accuracy 88.43484965304549, 1215/1216\n"
     ]
    },
    {
     "name": "stderr",
     "output_type": "stream",
     "text": [
      "100%|██████████| 1216/1216 [00:28<00:00, 42.87it/s]\n"
     ]
    },
    {
     "name": "stdout",
     "output_type": "stream",
     "text": [
      "Epoch 6, Loss 0.1705389767885208, Accuracy 90.07196093549216, 1215/1216\n"
     ]
    },
    {
     "name": "stderr",
     "output_type": "stream",
     "text": [
      "100%|██████████| 1216/1216 [00:29<00:00, 40.74it/s]\n"
     ]
    },
    {
     "name": "stdout",
     "output_type": "stream",
     "text": [
      "Epoch 7, Loss 0.06668821722269058, Accuracy 91.54973014649191, 1215/1216\n"
     ]
    },
    {
     "name": "stderr",
     "output_type": "stream",
     "text": [
      "100%|██████████| 1216/1216 [00:28<00:00, 42.13it/s]\n"
     ]
    },
    {
     "name": "stdout",
     "output_type": "stream",
     "text": [
      "Epoch 8, Loss 0.26641514897346497, Accuracy 92.53919300950912, 1215/1216\n"
     ]
    },
    {
     "name": "stderr",
     "output_type": "stream",
     "text": [
      "100%|██████████| 1216/1216 [00:29<00:00, 40.85it/s]"
     ]
    },
    {
     "name": "stdout",
     "output_type": "stream",
     "text": [
      "Epoch 9, Loss 0.275203138589859, Accuracy 93.35389360061681, 1215/1216\n",
      "Finished Training\n"
     ]
    },
    {
     "name": "stderr",
     "output_type": "stream",
     "text": [
      "\n"
     ]
    }
   ],
   "source": [
    "import torch.nn as nn\n",
    "import torch.nn.functional as F\n",
    "from tqdm import tqdm\n",
    "\n",
    "class Net(nn.Module):\n",
    "    def __init__(self, input_dim, output_dim, hidden_dim_1, hidden_dim_2, hidden_dim_3):\n",
    "        super(Net, self).__init__()\n",
    "        self.fc1 = nn.Linear(input_dim, hidden_dim_1)\n",
    "        self.fc2 = nn.Linear(hidden_dim_1, hidden_dim_2)\n",
    "        self.fc3 = nn.Linear(hidden_dim_2, hidden_dim_3)\n",
    "        self.fc4 = nn.Linear(hidden_dim_3, output_dim)\n",
    "    \n",
    "    def forward(self, x):\n",
    "        x = F.relu(self.fc1(x))\n",
    "        x = F.relu(self.fc2(x))\n",
    "        x = F.relu(self.fc3(x))\n",
    "        x = self.fc4(x)         \n",
    "        return x\n",
    "\n",
    "input_dim = diatoms['onehot'].max()+1\n",
    "output_dim = 2\n",
    "\n",
    "model = Net(input_dim, output_dim, 4096, 1024, 256)\n",
    "criterion = nn.CrossEntropyLoss()\n",
    "optimizer = torch.optim.Adam(model.parameters(), lr=0.001)\n",
    "\n",
    "# split the dataset into training and test\n",
    "train_size = int(0.8 * len(dataset))\n",
    "test_size = len(dataset) - train_size\n",
    "# train_dataset, test_dataset = torch.utils.data.random_split(dataset, [train_size, test_size])\n",
    "train_dataset, test_dataset = torch.utils.data.random_split(dataset_bin, [train_size, test_size])\n",
    "train_dataloader = DataLoader(train_dataset, batch_size=32, shuffle=True)\n",
    "test_dataloader = DataLoader(test_dataset, batch_size=32, shuffle=True)\n",
    "\n",
    "for epoch in range(10):\n",
    "    correct = 0\n",
    "    total = 0\n",
    "    for i, data in enumerate(tqdm(train_dataloader)):\n",
    "        x, y, keys = data\n",
    "        optimizer.zero_grad()\n",
    "        output = model(x.float())\n",
    "        loss = criterion(output, y)\n",
    "        loss.backward()\n",
    "        optimizer.step()\n",
    "        _, predicted = torch.max(output.data, 1)\n",
    "        total += y.size(0)\n",
    "        correct += (predicted == y).sum().item()\n",
    "        if i == len(train_dataloader)-1:\n",
    "            print(f'Epoch {epoch}, Loss {loss.item()}, Accuracy {100 * correct / total}, {i}/{len(train_dataloader)}')\n",
    "\n",
    "print('Finished Training')"
   ]
  },
  {
   "cell_type": "code",
   "execution_count": 102,
   "metadata": {},
   "outputs": [
    {
     "name": "stderr",
     "output_type": "stream",
     "text": [
      "100%|██████████| 304/304 [00:01<00:00, 243.39it/s]\n"
     ]
    },
    {
     "name": "stdout",
     "output_type": "stream",
     "text": [
      "Final Test Accuracy 80.87993421052632\n"
     ]
    },
    {
     "data": {
      "image/png": "[encoded data removed]",
      "text/plain": [
       "<Figure size 640x480 with 2 Axes>"
      ]
     },
     "metadata": {},
     "output_type": "display_data"
    }
   ],
   "source": [
    "from sklearn.metrics import confusion_matrix\n",
    "import seaborn as sns\n",
    "import matplotlib.pyplot as plt\n",
    "correct = 0\n",
    "total = 0\n",
    "predictions = []\n",
    "true_classes = []\n",
    "for i, data in enumerate(tqdm(test_dataloader)):\n",
    "    x, y, keys = data\n",
    "    output = model(x.float())\n",
    "    _, predicted = torch.max(output.data, 1)\n",
    "    predictions.extend(predicted)\n",
    "    true_classes.extend(y)\n",
    "    total += y.size(0)\n",
    "    correct += (predicted == y).sum().item()\n",
    "print(f'Final Test Accuracy {100 * correct / total}')\n",
    "conf_matrix = confusion_matrix(true_classes, predictions)\n",
    "\n",
    "# sns.heatmap(conf_matrix, annot=True, fmt=\"d\", cmap=\"Blues\",\n",
    "#           xticklabels=['High', 'Good', 'Mediocre', 'Poor', 'Bad'],\n",
    "#            yticklabels=['High', 'Good', 'Mediocre', 'Poor', 'Bad'])\n",
    "\n",
    "sns.heatmap(conf_matrix, annot=True, fmt=\"d\", cmap=\"Blues\",\n",
    "           xticklabels=['Good', 'Mediocre/Bad'],\n",
    "            yticklabels=['Good', 'Mediocre/Bad'])\n",
    "\n",
    "plt.xlabel(\"Predicted Label\")\n",
    "plt.ylabel(\"True Label\")\n",
    "plt.title(\"Confusion Matrix\")\n",
    "plt.show()"
   ]
  },
  {
   "cell_type": "code",
   "execution_count": 103,
   "metadata": {},
   "outputs": [
    {
     "name": "stderr",
     "output_type": "stream",
     "text": [
      "100%|██████████| 304/304 [00:01<00:00, 279.93it/s]\n"
     ]
    },
    {
     "data": {
      "image/png": "[encoded data removed]",
      "text/plain": [
       "<Figure size 640x480 with 1 Axes>"
      ]
     },
     "metadata": {},
     "output_type": "display_data"
    },
    {
     "data": {
      "image/png": "[encoded data removed]",
      "text/plain": [
       "<Figure size 640x480 with 1 Axes>"
      ]
     },
     "metadata": {},
     "output_type": "display_data"
    }
   ],
   "source": [
    "full_datalodaer = DataLoader(dataset_bin, batch_size=32, shuffle=True)\n",
    "site_acc = {}\n",
    "for i, data in enumerate(tqdm(test_dataloader)):\n",
    "    x, y, keys = data\n",
    "    output = model(x.float())\n",
    "    _, predicted = torch.max(output.data, 1)\n",
    "    for j, key in enumerate(keys):\n",
    "        k = key.split('_')[0]\n",
    "        if k in site_acc:\n",
    "            site_acc[k].append(predicted[j].item() == y[j].item())\n",
    "        else:\n",
    "            site_acc[k] = [predicted[j].item() == y[j].item()]\n",
    "site_acc = {key: np.mean(val) for key, val in site_acc.items()}\n",
    "sns.boxplot(x=list(site_acc.values()))\n",
    "plt.xlabel('Accuracy')\n",
    "plt.title('Site Accuracy')\n",
    "plt.show()\n",
    "\n",
    "sns.histplot(list(site_acc.values()))\n",
    "plt.xlabel('Accuracy')\n",
    "plt.title('Site Accuracy')\n",
    "plt.show()"
   ]
  },
  {
   "cell_type": "code",
   "execution_count": 116,
   "metadata": {},
   "outputs": [
    {
     "name": "stdout",
     "output_type": "stream",
     "text": [
      "Skipped 10452 samples\n",
      "Skipped 39372 samples\n",
      "Y distribution for train (0 is Good, 1 is Mediocre/Bad): {0: 19166, 1: 19613}\n",
      "Y distribution for test (0 is Good, 1 is Mediocre/Bad): {0: 4740, 1: 5119}\n"
     ]
    }
   ],
   "source": [
    "sampling_op_to_tensor = pkl.load(open('sampling_op_to_tensor.pkl', 'rb'))\n",
    "class DiatomDataset_SplitSite(Dataset):\n",
    "    def __init__(self, sampling_op_to_tensor, x='scaled_onehot', y='Nitrogencompounds_Status1Y', sites=set()):\n",
    "        self.sampling_op_to_tensor = sampling_op_to_tensor.copy()\n",
    "        self.keys = list(self.sampling_op_to_tensor.keys())\n",
    "        self.x = 0 if x == 'scaled_onehot' else 1\n",
    "        self.y = [valid_ys.index(y)]\n",
    "        temp = []\n",
    "        for key in self.keys:\n",
    "            if self.sampling_op_to_tensor[key][2][self.y].item() == -1:\n",
    "                continue\n",
    "            elif key.split('_')[0] not in sites:\n",
    "                continue\n",
    "            else:\n",
    "                temp.append(key)\n",
    "                self.sampling_op_to_tensor[key][2][self.y] = 1 if self.sampling_op_to_tensor[key][2][self.y].item() >= 2 else 0\n",
    "        print('Skipped', len(self.keys) - len(temp), 'samples')\n",
    "        self.keys = temp\n",
    "\n",
    "        \n",
    "    def __len__(self):\n",
    "        return len(self.keys)\n",
    "    \n",
    "    def __getitem__(self, idx):\n",
    "        key = self.keys[idx]\n",
    "        return self.sampling_op_to_tensor[key][self.x], self.sampling_op_to_tensor[key][2][self.y].item(), key\n",
    "\n",
    "sites = list(set([key.split('_')[0] for key in sampling_op_to_tensor.keys()]))\n",
    "train_size = int(0.8 * len(sites))\n",
    "rand_ind_train = np.random.choice(len(sites), train_size, replace=False)\n",
    "train_sites = set([sites[i] for i in rand_ind_train])\n",
    "test_sites = set(sites) - train_sites\n",
    "train_dataset_site_split = DiatomDataset_SplitSite(sampling_op_to_tensor, x='scaled_onehot', y='Nitrates_Status1Y', sites=train_sites)\n",
    "test_dataset_site_split = DiatomDataset_SplitSite(sampling_op_to_tensor, x='scaled_onehot', y='Nitrates_Status1Y', sites=test_sites)\n",
    "y_dist_bin = {0: 0, 1: 0}\n",
    "for i in range(len(train_dataset_site_split)):\n",
    "    y_dist_bin[train_dataset_site_split[i][1]] += 1\n",
    "print('Y distribution for train (0 is Good, 1 is Mediocre/Bad):', y_dist_bin)\n",
    "y_dist_bin = {0: 0, 1: 0}\n",
    "for i in range(len(test_dataset_site_split)):\n",
    "    y_dist_bin[test_dataset_site_split[i][1]] += 1\n",
    "print('Y distribution for test (0 is Good, 1 is Mediocre/Bad):', y_dist_bin)"
   ]
  },
  {
   "cell_type": "code",
   "execution_count": 117,
   "metadata": {},
   "outputs": [
    {
     "name": "stderr",
     "output_type": "stream",
     "text": [
      "100%|██████████| 1212/1212 [00:27<00:00, 43.64it/s]\n"
     ]
    },
    {
     "name": "stdout",
     "output_type": "stream",
     "text": [
      "Epoch 0, Loss 0.4617820084095001, Accuracy 77.67606178601821, 1211/1216\n"
     ]
    },
    {
     "name": "stderr",
     "output_type": "stream",
     "text": [
      "100%|██████████| 1212/1212 [00:27<00:00, 44.47it/s]\n"
     ]
    },
    {
     "name": "stdout",
     "output_type": "stream",
     "text": [
      "Epoch 1, Loss 0.4282829165458679, Accuracy 80.7653626963047, 1211/1216\n"
     ]
    },
    {
     "name": "stderr",
     "output_type": "stream",
     "text": [
      "100%|██████████| 1212/1212 [00:27<00:00, 44.49it/s]\n"
     ]
    },
    {
     "name": "stdout",
     "output_type": "stream",
     "text": [
      "Epoch 2, Loss 0.449065238237381, Accuracy 82.91601124319864, 1211/1216\n"
     ]
    },
    {
     "name": "stderr",
     "output_type": "stream",
     "text": [
      "100%|██████████| 1212/1212 [00:27<00:00, 44.46it/s]\n"
     ]
    },
    {
     "name": "stdout",
     "output_type": "stream",
     "text": [
      "Epoch 3, Loss 0.29344847798347473, Accuracy 84.9377240258903, 1211/1216\n"
     ]
    },
    {
     "name": "stderr",
     "output_type": "stream",
     "text": [
      "100%|██████████| 1212/1212 [00:27<00:00, 44.35it/s]\n"
     ]
    },
    {
     "name": "stdout",
     "output_type": "stream",
     "text": [
      "Epoch 4, Loss 0.18443754315376282, Accuracy 86.90786250290105, 1211/1216\n"
     ]
    },
    {
     "name": "stderr",
     "output_type": "stream",
     "text": [
      "100%|██████████| 1212/1212 [00:27<00:00, 44.29it/s]\n"
     ]
    },
    {
     "name": "stdout",
     "output_type": "stream",
     "text": [
      "Epoch 5, Loss 0.31799185276031494, Accuracy 88.7078057711648, 1211/1216\n"
     ]
    },
    {
     "name": "stderr",
     "output_type": "stream",
     "text": [
      "100%|██████████| 1212/1212 [00:27<00:00, 44.19it/s]\n"
     ]
    },
    {
     "name": "stdout",
     "output_type": "stream",
     "text": [
      "Epoch 6, Loss 0.18811757862567902, Accuracy 90.16477990665051, 1211/1216\n"
     ]
    },
    {
     "name": "stderr",
     "output_type": "stream",
     "text": [
      "100%|██████████| 1212/1212 [00:27<00:00, 44.38it/s]\n"
     ]
    },
    {
     "name": "stdout",
     "output_type": "stream",
     "text": [
      "Epoch 7, Loss 0.14267851412296295, Accuracy 91.47476727094562, 1211/1216\n"
     ]
    },
    {
     "name": "stderr",
     "output_type": "stream",
     "text": [
      "100%|██████████| 1212/1212 [00:27<00:00, 44.51it/s]\n"
     ]
    },
    {
     "name": "stdout",
     "output_type": "stream",
     "text": [
      "Epoch 8, Loss 0.08512276411056519, Accuracy 92.66871244745867, 1211/1216\n"
     ]
    },
    {
     "name": "stderr",
     "output_type": "stream",
     "text": [
      "100%|██████████| 1212/1212 [00:27<00:00, 44.26it/s]"
     ]
    },
    {
     "name": "stdout",
     "output_type": "stream",
     "text": [
      "Epoch 9, Loss 0.2548994719982147, Accuracy 93.34691456716264, 1211/1216\n",
      "Finished Training\n"
     ]
    },
    {
     "name": "stderr",
     "output_type": "stream",
     "text": [
      "\n"
     ]
    }
   ],
   "source": [
    "input_din = diatoms['onehot'].max()+1\n",
    "output_dim = 2\n",
    "model_site_split = Net(input_dim, output_dim, 4096, 1024, 256)\n",
    "criterion = nn.CrossEntropyLoss()\n",
    "optimizer = torch.optim.Adam(model_site_split.parameters(), lr=0.001)\n",
    "train_dataloader_site_split = DataLoader(train_dataset_site_split, batch_size=32, shuffle=True)\n",
    "test_dataloader_site_split = DataLoader(test_dataset_site_split, batch_size=32, shuffle=True)\n",
    "\n",
    "for epoch in range(10):\n",
    "    correct = 0\n",
    "    total = 0\n",
    "    for i, data in enumerate(tqdm(train_dataloader_site_split)):\n",
    "        x, y, keys = data\n",
    "        optimizer.zero_grad()\n",
    "        output = model_site_split(x.float())\n",
    "        loss = criterion(output, y)\n",
    "        loss.backward()\n",
    "        optimizer.step()\n",
    "        _, predicted = torch.max(output.data, 1)\n",
    "        total += y.size(0)\n",
    "        correct += (predicted == y).sum().item()\n",
    "        if i == len(train_dataloader_site_split)-1:\n",
    "            print(f'Epoch {epoch}, Loss {loss.item()}, Accuracy {100 * correct / total}, {i}/{len(train_dataloader)}')\n",
    "\n",
    "print('Finished Training')"
   ]
  },
  {
   "cell_type": "code",
   "execution_count": 121,
   "metadata": {},
   "outputs": [
    {
     "name": "stderr",
     "output_type": "stream",
     "text": [
      "100%|██████████| 309/309 [00:01<00:00, 257.35it/s]\n"
     ]
    },
    {
     "name": "stdout",
     "output_type": "stream",
     "text": [
      "Final Test Accuracy 78.70980829698752\n"
     ]
    },
    {
     "data": {
      "image/png": "[encoded data removed]",
      "text/plain": [
       "<Figure size 640x480 with 2 Axes>"
      ]
     },
     "metadata": {},
     "output_type": "display_data"
    },
    {
     "data": {
      "image/png": "[encoded data removed]",
      "text/plain": [
       "<Figure size 640x480 with 1 Axes>"
      ]
     },
     "metadata": {},
     "output_type": "display_data"
    },
    {
     "data": {
      "image/png": "[encoded data removed]",
      "text/plain": [
       "<Figure size 640x480 with 1 Axes>"
      ]
     },
     "metadata": {},
     "output_type": "display_data"
    }
   ],
   "source": [
    "correct = 0\n",
    "total = 0\n",
    "predictions = []\n",
    "true_classes = []\n",
    "site_acc = {}\n",
    "for i, data in enumerate(tqdm(test_dataloader_site_split)):\n",
    "    x, y, keys = data\n",
    "    output = model_site_split(x.float())\n",
    "    _, predicted = torch.max(output.data, 1)\n",
    "    predictions.extend(predicted)\n",
    "    true_classes.extend(y)\n",
    "    total += y.size(0)\n",
    "    correct += (predicted == y).sum().item()\n",
    "    for j, key in enumerate(keys):\n",
    "        k = key.split('_')[0]\n",
    "        if k in site_acc:\n",
    "            site_acc[k].append(predicted[j].item() == y[j].item())\n",
    "        else:\n",
    "            site_acc[k] = [predicted[j].item() == y[j].item()]\n",
    "print(f'Final Test Accuracy {100 * correct / total}')\n",
    "conf_matrix = confusion_matrix(true_classes, predictions)\n",
    "\n",
    "# sns.heatmap(conf_matrix, annot=True, fmt=\"d\", cmap=\"Blues\",\n",
    "#           xticklabels=['High', 'Good', 'Mediocre', 'Poor', 'Bad'],\n",
    "#            yticklabels=['High', 'Good', 'Mediocre', 'Poor', 'Bad'])\n",
    "\n",
    "sns.heatmap(conf_matrix, annot=True, fmt=\"d\", cmap=\"Blues\",\n",
    "           xticklabels=['Good', 'Mediocre/Bad'],\n",
    "            yticklabels=['Good', 'Mediocre/Bad'])\n",
    "\n",
    "plt.xlabel(\"Predicted Label\")\n",
    "plt.ylabel(\"True Label\")\n",
    "plt.title(\"Confusion Matrix\")\n",
    "plt.show()\n",
    "\n",
    "site_acc = {key: np.mean(val) for key, val in site_acc.items()}\n",
    "sns.boxplot(x=list(site_acc.values()))\n",
    "plt.xlabel('Accuracy')\n",
    "plt.title('Site Accuracy')\n",
    "plt.show()\n",
    "\n",
    "sns.histplot(list(site_acc.values()))\n",
    "plt.xlabel('Accuracy')\n",
    "plt.title('Site Accuracy')\n",
    "plt.show()"
   ]
  }
 ],
 "metadata": {
  "kernelspec": {
   "display_name": "ml_hw3",
   "language": "python",
   "name": "python3"
  },
  "language_info": {
   "codemirror_mode": {
    "name": "ipython",
    "version": 3
   },
   "file_extension": ".py",
   "mimetype": "text/x-python",
   "name": "python",
   "nbconvert_exporter": "python",
   "pygments_lexer": "ipython3",
   "version": "3.10.13"
  }
 },
 "nbformat": 4,
 "nbformat_minor": 2
}
